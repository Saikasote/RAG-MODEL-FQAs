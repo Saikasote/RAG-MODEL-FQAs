{
 "cells": [
  {
   "cell_type": "code",
   "execution_count": 1,
   "id": "bfad7461-6491-46d3-9a60-e289b5370201",
   "metadata": {},
   "outputs": [],
   "source": [
    "import pandas as pd\n",
    "import string"
   ]
  },
  {
   "cell_type": "code",
   "execution_count": 4,
   "id": "fe015614-0afd-4287-861f-c2fe699ff10c",
   "metadata": {},
   "outputs": [],
   "source": [
    "original_data = pd.read_csv(\"FQAs.csv\", encoding=\"windows-1252\")"
   ]
  },
  {
   "cell_type": "code",
   "execution_count": 5,
   "id": "5c13d2d8-5d2a-4067-aaa1-022c41e7c968",
   "metadata": {},
   "outputs": [],
   "source": [
    "def clean_text(text):\n",
    "    text = str(text).lower()  # convert to lowercase\n",
    "    return text.translate(str.maketrans('', '', string.punctuation))"
   ]
  },
  {
   "cell_type": "code",
   "execution_count": 6,
   "id": "ca725684-5d17-4ea6-a4cf-6eecd2ff38a0",
   "metadata": {},
   "outputs": [],
   "source": [
    "df = original_data.copy()"
   ]
  },
  {
   "cell_type": "code",
   "execution_count": 7,
   "id": "d487bb0a-7b16-4452-a126-5f4b6bc01710",
   "metadata": {},
   "outputs": [
    {
     "data": {
      "text/html": [
       "<div>\n",
       "<style scoped>\n",
       "    .dataframe tbody tr th:only-of-type {\n",
       "        vertical-align: middle;\n",
       "    }\n",
       "\n",
       "    .dataframe tbody tr th {\n",
       "        vertical-align: top;\n",
       "    }\n",
       "\n",
       "    .dataframe thead th {\n",
       "        text-align: right;\n",
       "    }\n",
       "</style>\n",
       "<table border=\"1\" class=\"dataframe\">\n",
       "  <thead>\n",
       "    <tr style=\"text-align: right;\">\n",
       "      <th></th>\n",
       "      <th>Question</th>\n",
       "      <th>Answer</th>\n",
       "    </tr>\n",
       "  </thead>\n",
       "  <tbody>\n",
       "    <tr>\n",
       "      <th>0</th>\n",
       "      <td>Can I change the date of my flight?</td>\n",
       "      <td>Yes. Airlines allow date changes for a fee or ...</td>\n",
       "    </tr>\n",
       "    <tr>\n",
       "      <th>1</th>\n",
       "      <td>Can I change the time of my flight?</td>\n",
       "      <td>Yes.You can reschedule your flight for free if...</td>\n",
       "    </tr>\n",
       "    <tr>\n",
       "      <th>2</th>\n",
       "      <td>How do I cancel my booking?</td>\n",
       "      <td>You can cancel your booking online through the...</td>\n",
       "    </tr>\n",
       "    <tr>\n",
       "      <th>3</th>\n",
       "      <td>Will I get a full refund if I cancel my ticket?</td>\n",
       "      <td>No.Cancellation of tickets is not free under a...</td>\n",
       "    </tr>\n",
       "    <tr>\n",
       "      <th>4</th>\n",
       "      <td>Can I book a flight for someone else using my ...</td>\n",
       "      <td>Yes, you can book a ticket for another person ...</td>\n",
       "    </tr>\n",
       "    <tr>\n",
       "      <th>...</th>\n",
       "      <td>...</td>\n",
       "      <td>...</td>\n",
       "    </tr>\n",
       "    <tr>\n",
       "      <th>90</th>\n",
       "      <td>What is airline PNR?</td>\n",
       "      <td>Passenger Name Record (PNR) is your booking re...</td>\n",
       "    </tr>\n",
       "    <tr>\n",
       "      <th>91</th>\n",
       "      <td>Can I get a receipt for baggage fees?</td>\n",
       "      <td>Yes, receipts are usually available via email ...</td>\n",
       "    </tr>\n",
       "    <tr>\n",
       "      <th>92</th>\n",
       "      <td>How do I request a flight certificate for proo...</td>\n",
       "      <td>Request it via customer support or through you...</td>\n",
       "    </tr>\n",
       "    <tr>\n",
       "      <th>93</th>\n",
       "      <td>Can I bring duty-free liquids on connecting fl...</td>\n",
       "      <td>Yes, if they are in sealed, tamper-evident bag...</td>\n",
       "    </tr>\n",
       "    <tr>\n",
       "      <th>94</th>\n",
       "      <td>How do I change my contact information after b...</td>\n",
       "      <td>Log in to manage booking or call customer serv...</td>\n",
       "    </tr>\n",
       "  </tbody>\n",
       "</table>\n",
       "<p>95 rows × 2 columns</p>\n",
       "</div>"
      ],
      "text/plain": [
       "                                             Question  \\\n",
       "0                 Can I change the date of my flight?   \n",
       "1                 Can I change the time of my flight?   \n",
       "2                         How do I cancel my booking?   \n",
       "3     Will I get a full refund if I cancel my ticket?   \n",
       "4   Can I book a flight for someone else using my ...   \n",
       "..                                                ...   \n",
       "90                               What is airline PNR?   \n",
       "91              Can I get a receipt for baggage fees?   \n",
       "92  How do I request a flight certificate for proo...   \n",
       "93  Can I bring duty-free liquids on connecting fl...   \n",
       "94  How do I change my contact information after b...   \n",
       "\n",
       "                                               Answer  \n",
       "0   Yes. Airlines allow date changes for a fee or ...  \n",
       "1   Yes.You can reschedule your flight for free if...  \n",
       "2   You can cancel your booking online through the...  \n",
       "3   No.Cancellation of tickets is not free under a...  \n",
       "4   Yes, you can book a ticket for another person ...  \n",
       "..                                                ...  \n",
       "90  Passenger Name Record (PNR) is your booking re...  \n",
       "91  Yes, receipts are usually available via email ...  \n",
       "92  Request it via customer support or through you...  \n",
       "93  Yes, if they are in sealed, tamper-evident bag...  \n",
       "94  Log in to manage booking or call customer serv...  \n",
       "\n",
       "[95 rows x 2 columns]"
      ]
     },
     "execution_count": 7,
     "metadata": {},
     "output_type": "execute_result"
    }
   ],
   "source": [
    "df"
   ]
  },
  {
   "cell_type": "code",
   "execution_count": 8,
   "id": "696b6b9f-2180-4f81-9112-80f6a93c2f11",
   "metadata": {},
   "outputs": [],
   "source": [
    "df['Question'] = df['Question'].apply(clean_text)\n",
    "df['Answer'] = df['Answer'].apply(clean_text)"
   ]
  },
  {
   "cell_type": "code",
   "execution_count": 9,
   "id": "08d93103-9830-4220-87b7-51d5879a3e04",
   "metadata": {},
   "outputs": [
    {
     "data": {
      "text/html": [
       "<div>\n",
       "<style scoped>\n",
       "    .dataframe tbody tr th:only-of-type {\n",
       "        vertical-align: middle;\n",
       "    }\n",
       "\n",
       "    .dataframe tbody tr th {\n",
       "        vertical-align: top;\n",
       "    }\n",
       "\n",
       "    .dataframe thead th {\n",
       "        text-align: right;\n",
       "    }\n",
       "</style>\n",
       "<table border=\"1\" class=\"dataframe\">\n",
       "  <thead>\n",
       "    <tr style=\"text-align: right;\">\n",
       "      <th></th>\n",
       "      <th>Question</th>\n",
       "      <th>Answer</th>\n",
       "    </tr>\n",
       "  </thead>\n",
       "  <tbody>\n",
       "    <tr>\n",
       "      <th>0</th>\n",
       "      <td>can i change the date of my flight</td>\n",
       "      <td>yes airlines allow date changes for a fee or m...</td>\n",
       "    </tr>\n",
       "    <tr>\n",
       "      <th>1</th>\n",
       "      <td>can i change the time of my flight</td>\n",
       "      <td>yesyou can reschedule your flight for free if ...</td>\n",
       "    </tr>\n",
       "    <tr>\n",
       "      <th>2</th>\n",
       "      <td>how do i cancel my booking</td>\n",
       "      <td>you can cancel your booking online through the...</td>\n",
       "    </tr>\n",
       "    <tr>\n",
       "      <th>3</th>\n",
       "      <td>will i get a full refund if i cancel my ticket</td>\n",
       "      <td>nocancellation of tickets is not free under an...</td>\n",
       "    </tr>\n",
       "    <tr>\n",
       "      <th>4</th>\n",
       "      <td>can i book a flight for someone else using my ...</td>\n",
       "      <td>yes you can book a ticket for another person u...</td>\n",
       "    </tr>\n",
       "  </tbody>\n",
       "</table>\n",
       "</div>"
      ],
      "text/plain": [
       "                                            Question  \\\n",
       "0                 can i change the date of my flight   \n",
       "1                 can i change the time of my flight   \n",
       "2                         how do i cancel my booking   \n",
       "3     will i get a full refund if i cancel my ticket   \n",
       "4  can i book a flight for someone else using my ...   \n",
       "\n",
       "                                              Answer  \n",
       "0  yes airlines allow date changes for a fee or m...  \n",
       "1  yesyou can reschedule your flight for free if ...  \n",
       "2  you can cancel your booking online through the...  \n",
       "3  nocancellation of tickets is not free under an...  \n",
       "4  yes you can book a ticket for another person u...  "
      ]
     },
     "execution_count": 9,
     "metadata": {},
     "output_type": "execute_result"
    }
   ],
   "source": [
    "df.head()"
   ]
  },
  {
   "cell_type": "code",
   "execution_count": 10,
   "id": "9d648384-5ea8-412a-a708-b40812e25b3b",
   "metadata": {},
   "outputs": [],
   "source": [
    "df.to_csv(\"FQAs_cleaned.csv\", index=False, encoding=\"utf-8\")"
   ]
  },
  {
   "cell_type": "code",
   "execution_count": null,
   "id": "de6dc857-a6c1-4500-8dd4-ae6a948f236e",
   "metadata": {},
   "outputs": [],
   "source": []
  }
 ],
 "metadata": {
  "kernelspec": {
   "display_name": "Python 3 (ipykernel)",
   "language": "python",
   "name": "python3"
  },
  "language_info": {
   "codemirror_mode": {
    "name": "ipython",
    "version": 3
   },
   "file_extension": ".py",
   "mimetype": "text/x-python",
   "name": "python",
   "nbconvert_exporter": "python",
   "pygments_lexer": "ipython3",
   "version": "3.13.1"
  }
 },
 "nbformat": 4,
 "nbformat_minor": 5
}
